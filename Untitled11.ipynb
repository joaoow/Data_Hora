{
  "nbformat": 4,
  "nbformat_minor": 0,
  "metadata": {
    "colab": {
      "provenance": []
    },
    "kernelspec": {
      "name": "python3",
      "display_name": "Python 3"
    },
    "language_info": {
      "name": "python"
    }
  },
  "cells": [
    {
      "cell_type": "code",
      "execution_count": 7,
      "metadata": {
        "colab": {
          "base_uri": "https://localhost:8080/"
        },
        "id": "DZI38jE8UuU_",
        "outputId": "c8bc9cb4-f168-42f5-da55-75e6290bf9ed"
      },
      "outputs": [
        {
          "output_type": "stream",
          "name": "stdout",
          "text": [
            "Hora local: Thu Oct  5 15:15:02 2023\n"
          ]
        }
      ],
      "source": [
        "# A variável x recebe o número de segundos desde 00:00:00 de 01/01/1970 pela função time().\n",
        "# Ao executar ctime(x),o número de segundos armazenado em x é convertido em uma string com\n",
        "# o horário local.\n",
        "\n",
        "import time\n",
        "x = time.time()\n",
        "print(f'Hora local: {time.ctime(x)}')"
      ]
    },
    {
      "cell_type": "code",
      "source": [],
      "metadata": {
        "id": "W4R3SBQF12wz"
      },
      "execution_count": null,
      "outputs": []
    }
  ]
}